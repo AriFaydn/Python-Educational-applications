{
  "nbformat": 4,
  "nbformat_minor": 0,
  "metadata": {
    "colab": {
      "name": "If-Else example_1.ipynb",
      "provenance": [],
      "collapsed_sections": [],
      "authorship_tag": "ABX9TyOutLDRjdKujHon4N1pa59P",
      "include_colab_link": true
    },
    "kernelspec": {
      "name": "python3",
      "display_name": "Python 3"
    },
    "language_info": {
      "name": "python"
    }
  },
  "cells": [
    {
      "cell_type": "markdown",
      "metadata": {
        "id": "view-in-github",
        "colab_type": "text"
      },
      "source": [
        "<a href=\"https://colab.research.google.com/github/AriFaydn/Python-Educational-applications/blob/main/If_Else_example_1.ipynb\" target=\"_parent\"><img src=\"https://colab.research.google.com/assets/colab-badge.svg\" alt=\"Open In Colab\"/></a>"
      ]
    },
    {
      "cell_type": "code",
      "execution_count": 1,
      "metadata": {
        "colab": {
          "base_uri": "https://localhost:8080/"
        },
        "id": "nZwnjVEC6agC",
        "outputId": "d66adc82-8c15-41f9-b3c1-8933ef58ee9f"
      },
      "outputs": [
        {
          "output_type": "stream",
          "name": "stdout",
          "text": [
            "Lütfen Kullanici Adinizi giriniz: Ali\n",
            "Ali\n",
            "Lütfen Sifrenizi Giriniz: Oya\n",
            "Oya\n",
            "Tebrikler Bilgileriniz Dogrudur\n"
          ]
        }
      ],
      "source": [
        "username = \"Ali\"\n",
        "password = \"Oya\"\n",
        "\n",
        "input_username = input(\"Lütfen Kullanici Adinizi giriniz: \")\n",
        "\n",
        "print(input_username)\n",
        "\n",
        "input_password = input(\"Lütfen Sifrenizi Giriniz: \")\n",
        "\n",
        "print(input_password)\n",
        "\n",
        "if username != input_username and password == input_password:\n",
        "  print(\"Kullanici addiniz Hatali\")\n",
        "\n",
        "elif username == input_username and password != input_password:\n",
        "    print(\"Parolaniz Yanlistir\")\n",
        "\n",
        "elif username != input_username and password != input_password:\n",
        "    print(\"Kullanici Adiniz ve Parolaniz Hatali\")\n",
        "\n",
        "elif username == input_username and password == input_password:\n",
        "    print(\"Tebrikler Bilgileriniz Dogrudur\")\n",
        "\n",
        "else:\n",
        "    print(\"Gecersiz bir islem yaptiniz\")"
      ]
    }
  ]
}